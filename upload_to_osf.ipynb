{
 "cells": [
  {
   "cell_type": "markdown",
   "id": "traditional-venture",
   "metadata": {},
   "source": [
    "# Uploading project files to the OSF. "
   ]
  },
  {
   "cell_type": "markdown",
   "id": "sustained-nerve",
   "metadata": {},
   "source": [
    "Install the osfclient via: \n",
    "\n",
    "```\n",
    "> pip install osfclient\n",
    "```\n",
    "\n",
    "Now, edit the information in the **Project specific variables** section and run the notebook. "
   ]
  },
  {
   "cell_type": "markdown",
   "id": "otherwise-yeast",
   "metadata": {},
   "source": [
    "# Utility functions"
   ]
  },
  {
   "cell_type": "code",
   "execution_count": null,
   "id": "further-alignment",
   "metadata": {},
   "outputs": [],
   "source": [
    "import osfclient \n",
    "from osfclient.models.storage import Storage\n",
    "import os\n",
    "from pathlib import Path\n",
    "from typing import Callable, Optional\n",
    "\n",
    "\n",
    "def get_storage(username: str, password: str, project_id: str, storage_provider: str = 'osfstorage') -> Storage:\n",
    "    \n",
    "    osf = osfclient.OSF(username=username, password=password)\n",
    "    proj = osf.project(project_id)\n",
    "    storage = proj.storage(provider=storage_provider)\n",
    "    return storage\n",
    "\n",
    "\n",
    "def upload_project_files(project_root: Path, storage: Storage, is_uploadable: Callable, dry_run: Optional[bool]=True) -> None:\n",
    "    \n",
    "    for (root, dirs, files) in os.walk(project_root, topdown=True):\n",
    "        for file in files:\n",
    "            root = Path(root)\n",
    "            file = Path(file)\n",
    "            if is_uploadable(root, file):\n",
    "                file_path = root.joinpath(file)\n",
    "                new_file_path = root.relative_to(project_root).joinpath(file)\n",
    "                \n",
    "                print(f'     uploading: {file_path}\\n            to: {new_file_path}\\n at storage id: {storage.id}\\n')\n",
    "                \n",
    "                if not dry_run:\n",
    "                    with file_path.open(mode='rb') as f:\n",
    "                        storage.create_file(path=str(new_file_path), fp=f)"
   ]
  },
  {
   "cell_type": "markdown",
   "id": "tender-liability",
   "metadata": {},
   "source": [
    "# Project specific variables \n",
    "\n",
    "1. Enter your credentials for the OSF and the project ID (look at the URL for the project. If it has https://osf.io/dkz83/ then the project ID is dkz83). Also enter the full path (as a pathlib.Path object) below: "
   ]
  },
  {
   "cell_type": "code",
   "execution_count": null,
   "id": "dutch-master",
   "metadata": {},
   "outputs": [],
   "source": [
    "pw = \"***\"\n",
    "un = \"***\"\n",
    "pid = \"dkz83\"\n",
    "project_root = Path(\"/Users/robertarbon/Documents/Consulting/helicity_e_lang/12-Folding_2/\")"
   ]
  },
  {
   "cell_type": "markdown",
   "id": "empty-supply",
   "metadata": {},
   "source": [
    "2. Create a `keep_file` function which returns true/false depending on whether you want to upload that file or not. "
   ]
  },
  {
   "cell_type": "code",
   "execution_count": null,
   "id": "perceived-sugar",
   "metadata": {},
   "outputs": [],
   "source": [
    "\n",
    "def keep_file(path: Path, file: Path) -> bool:\n",
    "    \"\"\"\n",
    "    'path' is the full path to the file 'file'\n",
    "    \"\"\"\n",
    "    # Uploads all files called 'prot1_capped.pdb' in directories which have '2-Run1' as a parent directory\n",
    "    file_match = 'prot1_capped.pdb'\n",
    "    path_match = '*/2-Run1/*'\n",
    "    return (file.match(file_match) and path.match(path_match))\n",
    "\n",
    "\n",
    "\n",
    "good_path = '12-Folding_2/1-A4_K4E4_A4_K4E4_A4/2-Run1/igb1_ff98/'\n",
    "good_file = 'prot1_capped.pdb'\n",
    "bad_path = '12-Folding_2/1-A4_K4E4_A4_K4E4_A4/5-Reproducibility/igb1_ff98/'\n",
    "bad_file = 'prot1.pdb'\n",
    "\n",
    "print(keep_file(Path(good_path), Path(good_file)))\n",
    "print(keep_file(Path(bad_path), Path(good_file)))\n",
    "print(keep_file(Path(good_path), Path(bad_file)))"
   ]
  },
  {
   "cell_type": "markdown",
   "id": "consolidated-vintage",
   "metadata": {},
   "source": [
    "3. Upload files (set `dry_run=False` to actually upload the files, otherwise it just prints which files go where):"
   ]
  },
  {
   "cell_type": "code",
   "execution_count": null,
   "id": "conscious-technique",
   "metadata": {
    "scrolled": true,
    "tags": []
   },
   "outputs": [],
   "source": [
    "storage = get_storage(username=un, password=pw, project_id=pid)\n",
    "upload_project_files(project_root, storage, keep_file, dry_run=True)"
   ]
  }
 ],
 "metadata": {
  "kernelspec": {
   "display_name": "Python 3",
   "language": "python",
   "name": "python3"
  },
  "language_info": {
   "codemirror_mode": {
    "name": "ipython",
    "version": 3
   },
   "file_extension": ".py",
   "mimetype": "text/x-python",
   "name": "python",
   "nbconvert_exporter": "python",
   "pygments_lexer": "ipython3",
   "version": "3.8.0"
  }
 },
 "nbformat": 4,
 "nbformat_minor": 5
}
